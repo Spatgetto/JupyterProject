{
 "cells": [
  {
   "cell_type": "markdown",
   "id": "8fa7ac35",
   "metadata": {},
   "source": [
    "# Data Science Tools and Ecosystem"
   ]
  },
  {
   "cell_type": "markdown",
   "id": "b7c8589a",
   "metadata": {},
   "source": [
    "In this notebook, Data Science Tools and Ecosystem are summarized."
   ]
  },
  {
   "cell_type": "markdown",
   "id": "99a5ca00",
   "metadata": {},
   "source": [
    "#### Objectives:\n",
    " - List Popular Languages for Data Science\n",
    " - List Popular Data Science Tools\n",
    " - Perform Arithmetic using Python"
   ]
  },
  {
   "cell_type": "markdown",
   "id": "959910cb",
   "metadata": {},
   "source": [
    "Some of the popular languages that Data Scientists use are:"
   ]
  },
  {
   "cell_type": "markdown",
   "id": "26c4406c",
   "metadata": {},
   "source": [
    "1. R\n",
    "2. Python\n",
    "3. Julia"
   ]
  },
  {
   "cell_type": "markdown",
   "id": "db5e3c62",
   "metadata": {},
   "source": [
    "| Data Science Tools |\n",
    "|:--------:          |\n",
    "|  Jupyter           |\n",
    "|  Hadoop            | \n",
    "|  Spyder            |"
   ]
  },
  {
   "cell_type": "markdown",
   "id": "85640796",
   "metadata": {},
   "source": [
    "### Below are a few examples of evaluating arithmetic expressions in Python"
   ]
  },
  {
   "cell_type": "code",
   "execution_count": 5,
   "id": "898f3d30",
   "metadata": {},
   "outputs": [
    {
     "data": {
      "text/plain": [
       "17"
      ]
     },
     "execution_count": 5,
     "metadata": {},
     "output_type": "execute_result"
    }
   ],
   "source": [
    "(3*4)+5\n",
    "#This a simple arithmetic expression to mutiply then add integers."
   ]
  },
  {
   "cell_type": "code",
   "execution_count": 7,
   "id": "405c8f64",
   "metadata": {},
   "outputs": [
    {
     "data": {
      "text/plain": [
       "3.3333333333333335"
      ]
     },
     "execution_count": 7,
     "metadata": {},
     "output_type": "execute_result"
    }
   ],
   "source": [
    "#This will convert 200 minutes to hours by diving by 60.\n",
    "minutes = 200\n",
    "minutes/60"
   ]
  },
  {
   "cell_type": "markdown",
   "id": "e236ab6c",
   "metadata": {},
   "source": [
    "## Author\n",
    "James"
   ]
  },
  {
   "cell_type": "code",
   "execution_count": null,
   "id": "8e5d43d8",
   "metadata": {},
   "outputs": [],
   "source": []
  }
 ],
 "metadata": {
  "kernelspec": {
   "display_name": "Python 3 (ipykernel)",
   "language": "python",
   "name": "python3"
  },
  "language_info": {
   "codemirror_mode": {
    "name": "ipython",
    "version": 3
   },
   "file_extension": ".py",
   "mimetype": "text/x-python",
   "name": "python",
   "nbconvert_exporter": "python",
   "pygments_lexer": "ipython3",
   "version": "3.11.4"
  }
 },
 "nbformat": 4,
 "nbformat_minor": 5
}
